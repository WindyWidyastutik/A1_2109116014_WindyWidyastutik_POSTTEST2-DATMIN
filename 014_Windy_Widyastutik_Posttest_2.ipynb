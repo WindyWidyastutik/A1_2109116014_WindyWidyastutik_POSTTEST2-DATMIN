{
  "nbformat": 4,
  "nbformat_minor": 0,
  "metadata": {
    "colab": {
      "provenance": [],
      "collapsed_sections": [
        "-0zOQSl3wlwj",
        "wEgfTlH7xlgG",
        "VU617TmXpSxY",
        "NPdf8VOFXwa_",
        "XX0KFtkKqyDG",
        "dKbtmICDq5A_",
        "3sAQkDIWSBnz",
        "vkC89irkfH1o",
        "Kmet918raR0_",
        "0HPdJkPogg-C",
        "SA7Tp0mocjgt",
        "g2ywq3uchfdk",
        "qjgjubxbIneG",
        "dpKMV_3sJOn3"
      ]
    },
    "kernelspec": {
      "name": "python3",
      "display_name": "Python 3"
    },
    "language_info": {
      "name": "python"
    }
  },
  "cells": [
    {
      "cell_type": "code",
      "source": [
        "import pandas as pd\n",
        "import seaborn as sns\n",
        "import plotly.express as px\n",
        "import numpy as np\n",
        "import matplotlib.pyplot as plt"
      ],
      "metadata": {
        "id": "c50naJbJMbXM"
      },
      "execution_count": null,
      "outputs": []
    },
    {
      "cell_type": "markdown",
      "source": [
        "# (1) Apriori"
      ],
      "metadata": {
        "id": "-0zOQSl3wlwj"
      }
    },
    {
      "cell_type": "markdown",
      "source": [
        "Gunakan dataset ini : https://drive.google.com/file/d/1BqC-2d1ZYqFIFwdjdsW5bAAqNFh2AO4C/view?usp=share_link\n",
        "\n",
        "Dan buatlah daftar support dan confidence untuk 2 item set dengan menggunakan dataset tersebut (hint : buatlah tabel tabulasi terlebih dahulu untuk memudahkan)"
      ],
      "metadata": {
        "id": "h-to2rkExJxa"
      }
    },
    {
      "cell_type": "code",
      "source": [
        "# Untuk baca Dataset_Temp - sheet 1\n",
        "df = pd.read_excel(\"dataset_market_basket.xlsx\",sheet_name=\"Sheet1\")\n",
        "df"
      ],
      "metadata": {
        "id": "TrMaHBKsMlxQ"
      },
      "execution_count": null,
      "outputs": []
    },
    {
      "cell_type": "code",
      "source": [
        "# 1 Item set\n",
        "df.sum()"
      ],
      "metadata": {
        "id": "rRhrKRJAMUCw"
      },
      "execution_count": null,
      "outputs": []
    },
    {
      "cell_type": "code",
      "source": [
        "# Melihat nama nama kolom yang ada dalam data market\n",
        "df.columns"
      ],
      "metadata": {
        "id": "7OSgyCSWPGS4"
      },
      "execution_count": null,
      "outputs": []
    },
    {
      "cell_type": "code",
      "source": [
        "# 2 Item set\n",
        "from itertools import permutations #Library untuk buat kombinasi barang\n",
        "\n",
        "# Extract unique items.\n",
        "rules = list(permutations(df.columns, 2))\n",
        "rules"
      ],
      "metadata": {
        "id": "vIS-CF28Pdl6"
      },
      "execution_count": null,
      "outputs": []
    },
    {
      "cell_type": "code",
      "source": [
        "# Filter yang ada item kombinasi yang muncul aja yang dihitung\n",
        "rule_baru = []\n",
        "for rule in rules:\n",
        "  # Memfilter dengan nama kolom\n",
        "  if len(df[(df[rule[0]]==1) & (df[rule[1]]==1)]) >0:\n",
        "    rule_baru.append(rule)\n",
        "rule_baru"
      ],
      "metadata": {
        "id": "SUSKNVH4P_WE"
      },
      "execution_count": null,
      "outputs": []
    },
    {
      "cell_type": "code",
      "source": [
        "# Menghitung banyaknya data pada setiap kombinasi\n",
        "hitung = {} #Mengganti dictionary\n",
        "for rule in rule_baru:\n",
        "  banyak_data= len(df[\n",
        "      (df[rule[0]]==1) & (df[rule[1]]==1)\n",
        "      ])\n",
        "  hitung[str(rule)] = banyak_data\n",
        "\n",
        "hitung"
      ],
      "metadata": {
        "id": "GCwZqEVBQbUn"
      },
      "execution_count": null,
      "outputs": []
    },
    {
      "cell_type": "code",
      "source": [
        "# List support\n",
        "# supp = [i/len(df)*100 for i in hitung.values()]\n",
        "# print(supp)\n",
        "\n",
        "\n",
        "print(\"--Nilai Support--\")\n",
        "for item,ab in hitung.items():\n",
        "  print(f\"{item} support = {ab/len(df)*100}%\")"
      ],
      "metadata": {
        "id": "xICpmuPuQigT"
      },
      "execution_count": null,
      "outputs": []
    },
    {
      "cell_type": "code",
      "source": [
        "# List Confidence\n",
        "# print([ab/df[kolom[0]].sum()*100 for ab,kolom in zip(hitung,rules)])\n",
        "\n",
        "print(\"--Nilai Confidence--\")\n",
        "for item,ab in hitung.items():\n",
        "  #\"A->B\"\n",
        "  i = eval(item) #Ubah ke list dari string\n",
        "  print(f\"{i[0]}->{i[1]}  Confidence = {ab/df[i[0]].sum()*100}%\")"
      ],
      "metadata": {
        "id": "HEU6VbmGQul3"
      },
      "execution_count": null,
      "outputs": []
    },
    {
      "cell_type": "markdown",
      "source": [
        "#(2) KNN\n",
        "\n",
        "Gunakan dataset ini : https://drive.google.com/file/d/1pXAJZZXCXosf0PTJkyogopKaPFxCYl22/view?usp=share_link\n",
        "\n",
        "Kemudian buatlah tabel jarak berdasarkan data berikut ini : \n",
        "\n",
        "![Gambar](data:image/png;base64,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)\n",
        "<!-- 1412 -->"
      ],
      "metadata": {
        "id": "wEgfTlH7xlgG"
      }
    },
    {
      "cell_type": "code",
      "source": [
        "from sklearn.datasets import load_iris\n",
        "from sklearn.model_selection import train_test_split\n",
        "from sklearn.neighbors import KNeighborsClassifier\n",
        "from sklearn.metrics.pairwise import euclidean_distances\n",
        "import numpy as np"
      ],
      "metadata": {
        "id": "pj3xtKQdixvg"
      },
      "execution_count": null,
      "outputs": []
    },
    {
      "cell_type": "code",
      "source": [
        "df = pd.read_csv(\"deteksi_uang_palsu.csv\")\n",
        "df"
      ],
      "metadata": {
        "id": "e6RqD5A5bHKd"
      },
      "execution_count": null,
      "outputs": []
    },
    {
      "cell_type": "markdown",
      "source": [
        "## Membuat tabel jarak"
      ],
      "metadata": {
        "id": "VU617TmXpSxY"
      }
    },
    {
      "cell_type": "code",
      "source": [
        "# membuat dataframe dari data baru\n",
        "new_data = pd.DataFrame({'diagonal': [172.25],\n",
        "                         'height_left': [103.94],\n",
        "                         'height_right': [103.68],\n",
        "                         'margin_low': [4.14],\n",
        "                         'margin_up': [3.25],\n",
        "                         'length': [112.48]})\n",
        "\n",
        "# Menghitung jarak antara setiap baris dataframe utama dengan dataframe data baru\n",
        "df['distance'] = np.sqrt(\n",
        "    (df['diagonal'] - new_data['diagonal'].values[0])**2\n",
        "    + (df['height_left'] - new_data['height_left'].values[0])**2\n",
        "    + (df['height_right'] - new_data['height_right'].values[0])**2\n",
        "    + (df['margin_low'] - new_data['margin_low'].values[0])**2\n",
        "    + (df['margin_up'] - new_data['margin_up'].values[0])**2\n",
        "    + (df['length'] - new_data['length'].values[0])**2\n",
        ")\n",
        "\n",
        "# Menampilkan tabel jarak\n",
        "print('Tabel Jarak : ')\n",
        "print(df['distance'])"
      ],
      "metadata": {
        "colab": {
          "base_uri": "https://localhost:8080/"
        },
        "id": "qcaZvXPMXgYI",
        "outputId": "4480ba25-80c3-4f0e-d46d-dadd9fc722a5"
      },
      "execution_count": null,
      "outputs": [
        {
          "output_type": "stream",
          "name": "stdout",
          "text": [
            "Tabel Jarak : \n",
            "0    0.671267\n",
            "1    1.458321\n",
            "2    0.834626\n",
            "3    0.910934\n",
            "4    1.312593\n",
            "5    2.421281\n",
            "6    1.741896\n",
            "7    1.113463\n",
            "8    1.722034\n",
            "9    1.738217\n",
            "Name: distance, dtype: float64\n"
          ]
        }
      ]
    },
    {
      "cell_type": "markdown",
      "source": [
        "## Menambahkan kolom jarak"
      ],
      "metadata": {
        "id": "NPdf8VOFXwa_"
      }
    },
    {
      "cell_type": "code",
      "source": [
        "# setting pandas agar bisa menampilkan seluruh kolom dibaris yang sesuai\n",
        "pd.set_option('display.max_columns', None)\n",
        "\n",
        "# Mengatur lebar tabel menjadi 200\n",
        "pd.set_option('display.width', 200)\n",
        "\n",
        "print(df)"
      ],
      "metadata": {
        "colab": {
          "base_uri": "https://localhost:8080/"
        },
        "id": "m14N_NrvX4-o",
        "outputId": "e2395088-62d6-4f6b-c7de-ad046ed94e5f"
      },
      "execution_count": null,
      "outputs": [
        {
          "output_type": "stream",
          "name": "stdout",
          "text": [
            "   is_genuine  diagonal  height_left  height_right  margin_low  margin_up  length  distance\n",
            "0        True    172.06       104.24        103.66        4.24       3.10  113.02  0.671267\n",
            "1        True    171.66       103.68        103.41        4.35       3.33  113.74  1.458321\n",
            "2        True    172.23       104.00        103.35        4.43       2.95  113.12  0.834626\n",
            "3        True    172.07       104.21        103.82        4.29       3.35  113.30  0.910934\n",
            "4        True    171.79       104.57        104.04        4.26       3.15  113.46  1.312593\n",
            "5       False    172.00       104.23        104.52        5.76       3.37  110.94  2.421281\n",
            "6       False    171.56       104.03        103.93        5.47       3.50  111.67  1.741896\n",
            "7       False    171.90       104.33        104.40        4.70       3.31  112.12  1.113463\n",
            "8       False    171.84       104.06        104.10        4.87       3.25  111.04  1.722034\n",
            "9       False    172.11       104.14        104.15        4.84       3.28  110.98  1.738217\n"
          ]
        }
      ]
    },
    {
      "cell_type": "markdown",
      "source": [
        "## Mengurutkan data dari yang terkecil ke yang terbesar"
      ],
      "metadata": {
        "id": "XX0KFtkKqyDG"
      }
    },
    {
      "cell_type": "code",
      "source": [
        "# Mengurutkan data dari kecil ke besar\n",
        "sorted_data = df.sort_values('distance')\n",
        "\n",
        "# Menentukan nilai k\n",
        "k = int(np.sqrt(len(df)))\n",
        "\n",
        "# Menentukan data terdekat\n",
        "data_terdekat = sorted_data.head(k)\n",
        "\n",
        "# Menampilkan data terdekat\n",
        "print(data_terdekat)"
      ],
      "metadata": {
        "id": "DgeVwMEX2JZi",
        "colab": {
          "base_uri": "https://localhost:8080/"
        },
        "outputId": "d722e2a8-47cc-498b-c3eb-597b376115d0"
      },
      "execution_count": null,
      "outputs": [
        {
          "output_type": "stream",
          "name": "stdout",
          "text": [
            "   is_genuine  diagonal  height_left  height_right  margin_low  margin_up  length  distance\n",
            "0        True    172.06       104.24        103.66        4.24       3.10  113.02  0.671267\n",
            "2        True    172.23       104.00        103.35        4.43       2.95  113.12  0.834626\n",
            "3        True    172.07       104.21        103.82        4.29       3.35  113.30  0.910934\n"
          ]
        }
      ]
    },
    {
      "cell_type": "markdown",
      "source": [
        "## Menentukan hasil prediksi berdasarkan label terbanyak"
      ],
      "metadata": {
        "id": "dKbtmICDq5A_"
      }
    },
    {
      "cell_type": "code",
      "source": [
        "print(\"Berdasarkan jawaban nomor 2, maka hasil prediksinya adalah : True \\n\")\n",
        "\n",
        "# Mengimpor library sklearn untuk menggunakan algoritma knn\n",
        "from sklearn.neighbors import KNeighborsClassifier\n",
        "\n",
        "# Split data menjadi data training dan data testing\n",
        "X_train = df.drop(columns=['is_genuine','distance'],axis=1)\n",
        "y_train = df['is_genuine']\n",
        "\n",
        "# inisiasi data baru menjadi data tes\n",
        "test_data = new_data\n",
        "\n",
        "# membuat variabel knn yang berisikan algoritma KNN dengan nilai K = akar 2 dari banyak data\n",
        "knn = KNeighborsClassifier(n_neighbors=k)\n",
        "\n",
        "# melatih knn dengan data training\n",
        "knn.fit(X_train, y_train)\n",
        "\n",
        "# memprediksi hasil\n",
        "prediksi = knn.predict(test_data)\n",
        "print(\"Berdasarkan penggunaan library sklearn untuk memprediksi menggunakan Algoritma KNN, hasilnya adalah : \"+ ' '.join(map(str, prediksi)))"
      ],
      "metadata": {
        "id": "JAho0GXZ2QeD"
      },
      "execution_count": null,
      "outputs": []
    },
    {
      "cell_type": "markdown",
      "source": [
        "# (3) Analisis"
      ],
      "metadata": {
        "id": "F0N-LXThwiqD"
      }
    },
    {
      "cell_type": "markdown",
      "source": [
        "> Nama : Windy Widyastutik\n",
        "\n",
        "> Nim : 2109116014\n"
      ],
      "metadata": {
        "id": "dItRdcTguaHj"
      }
    },
    {
      "cell_type": "markdown",
      "source": [
        "Penjelasan posttest : \n",
        "\n",
        "Pilihlah salah satu tema dari daftar tema ini :  \n",
        "1. Perbankan\n",
        "2. Kesehatan\n",
        "3. Ritel\n",
        "4. Pendidkan\n",
        "\n",
        "Kemudian lakukan analisis dengan menggunakan struktur CRISP-DM\n",
        "\n",
        "Dimulai dari Business Understanding Hingga Data Preparation \n",
        "<img src=\"https://th.bing.com/th/id/R.f8efea41ae3cd96d86fbc5b10f81ad77?rik=K4Dr%2biIaVGvW8g&riu=http%3a%2f%2fwww.dataprix.com%2ffiles%2fCRISPDM%2fMetodologia_CRISP_DM1_html_52cdbecf.png&ehk=6ONLJMCVxE421Sjt2JJPE6MfCzrL7LLhDZQPdkJTLcw%3d&risl=&pid=ImgRaw&r=0\"/>\n",
        "\n",
        "Tentukan judul dengan ketentuan setiap orang di kelas beda-beda judulnya dan sumber datasetnya (contoh bisa prediksi atau aturan asosiasi)\n",
        "\n",
        "Catatan : Tugas ini akan berhubungan dengan posttest terakhir (pertemuan 6)"
      ],
      "metadata": {
        "id": "Vbv4o0Q2uiXZ"
      }
    },
    {
      "cell_type": "markdown",
      "source": [
        "Tema : Pendidikan\n",
        "\n",
        "Judul Data : Passing Grade UTBK in Science Major\n",
        "\n",
        "Sumber : https://www.kaggle.com/datasets/rezkyyayang/passing-grade-utbk-in-science-major"
      ],
      "metadata": {
        "id": "LOLUiGvyocpo"
      }
    },
    {
      "cell_type": "markdown",
      "source": [
        "## Bussines Understanding\n"
      ],
      "metadata": {
        "id": "ELEvxeW6p4yn"
      }
    },
    {
      "cell_type": "markdown",
      "source": [
        "Passing Grade UTBK in Science Major Dataset merupakan kumpulan data yang berisi informasi tentang Lulus Nilai UTBK Jurusan IPA. Dataset ini mencakup informasi tentang jenis kelamin siswa, kelompok atau kategori siswa, status ekonomi sosial, tingkat pendidikan orang tua, persiapan ujian, nilai matematika, nilai membaca dan nilai menulis.\n",
        "\n",
        "Tujuan dari dataset ini adalah untuk mengenal lebih jauh mengenai data yang diamati, atau dalam kata lain bagaimana kita mencari tahu karakteristik dari data tersebut dan untuk mengenal lebih jauh mengenai data yang diamati, atau dalam kata lain bagaimana kita mencari tahu karakteristik dari data tersebut. "
      ],
      "metadata": {
        "id": "lLXOrkOjYvh1"
      }
    },
    {
      "cell_type": "markdown",
      "source": [
        "## Data Understanding"
      ],
      "metadata": {
        "id": "4BOE34YjGTM6"
      }
    },
    {
      "cell_type": "markdown",
      "source": [
        "### Collect Data"
      ],
      "metadata": {
        "id": "eNKE-6QhGj-q"
      }
    },
    {
      "cell_type": "markdown",
      "source": [
        "Sumber Data : https://www.kaggle.com/datasets/rezkyyayang/passing-grade-utbk-in-science-major"
      ],
      "metadata": {
        "id": "eFJ0_P5bZAzT"
      }
    },
    {
      "cell_type": "markdown",
      "source": [
        "### Penjelasan Kolom"
      ],
      "metadata": {
        "id": "r7aX-bS2SMMH"
      }
    },
    {
      "cell_type": "markdown",
      "source": [
        "1. Gender : jenis kelamin siswa (kategori : male dan female)\n",
        "2. Race/ethnicity : kelompok siswa (kategori : group A, group B, group C, group D, dan group E)\n",
        "3. Parental level of education: tingkat pendidikan orang tua (kategori : bachelor's degree, some college, master's degree, associate's degree, high school, dan some high school)\n",
        "4. Lunch : status ekonomi sosial (kategori : standard, dan free/reduced)\n",
        "5. Test preparation course : persiapan ujian (kategori : completed, none)\n",
        "6. Math score : Merupakan variabel numerik yang menunjukkan skor matematika.\n",
        "7. Reading score : Merupakan variabel numerik yang menunjukkan skor membaca.\n",
        "8. Writing score : Merupakan variabel numerik yang menunjukkan skor menulis.\n",
        "\n",
        "\n",
        "\n"
      ],
      "metadata": {
        "id": "NM9CLRaKKCXc"
      }
    },
    {
      "cell_type": "code",
      "source": [
        "df2 = pd.read_csv('stud_perf_exam.csv')\n",
        "df2"
      ],
      "metadata": {
        "colab": {
          "base_uri": "https://localhost:8080/",
          "height": 424
        },
        "id": "SCG6JCcsZRki",
        "outputId": "81b153eb-8371-4778-b911-a7ba0386230a"
      },
      "execution_count": null,
      "outputs": [
        {
          "output_type": "execute_result",
          "data": {
            "text/plain": [
              "     gender race/ethnicity parental level of education         lunch test preparation course  math score  reading score  writing score\n",
              "0    female        group B           bachelor's degree      standard                    none          72             72             74\n",
              "1    female        group C                some college      standard               completed          69             90             88\n",
              "2    female        group B             master's degree      standard                    none          90             95             93\n",
              "3      male        group A          associate's degree  free/reduced                    none          47             57             44\n",
              "4      male        group C                some college      standard                    none          76             78             75\n",
              "..      ...            ...                         ...           ...                     ...         ...            ...            ...\n",
              "995  female        group E             master's degree      standard               completed          88             99             95\n",
              "996    male        group C                 high school  free/reduced                    none          62             55             55\n",
              "997  female        group C                 high school  free/reduced               completed          59             71             65\n",
              "998  female        group D                some college      standard               completed          68             78             77\n",
              "999  female        group D                some college  free/reduced                    none          77             86             86\n",
              "\n",
              "[1000 rows x 8 columns]"
            ],
            "text/html": [
              "\n",
              "  <div id=\"df-f0e22ab9-d416-42b6-8345-329b881620b5\">\n",
              "    <div class=\"colab-df-container\">\n",
              "      <div>\n",
              "<style scoped>\n",
              "    .dataframe tbody tr th:only-of-type {\n",
              "        vertical-align: middle;\n",
              "    }\n",
              "\n",
              "    .dataframe tbody tr th {\n",
              "        vertical-align: top;\n",
              "    }\n",
              "\n",
              "    .dataframe thead th {\n",
              "        text-align: right;\n",
              "    }\n",
              "</style>\n",
              "<table border=\"1\" class=\"dataframe\">\n",
              "  <thead>\n",
              "    <tr style=\"text-align: right;\">\n",
              "      <th></th>\n",
              "      <th>gender</th>\n",
              "      <th>race/ethnicity</th>\n",
              "      <th>parental level of education</th>\n",
              "      <th>lunch</th>\n",
              "      <th>test preparation course</th>\n",
              "      <th>math score</th>\n",
              "      <th>reading score</th>\n",
              "      <th>writing score</th>\n",
              "    </tr>\n",
              "  </thead>\n",
              "  <tbody>\n",
              "    <tr>\n",
              "      <th>0</th>\n",
              "      <td>female</td>\n",
              "      <td>group B</td>\n",
              "      <td>bachelor's degree</td>\n",
              "      <td>standard</td>\n",
              "      <td>none</td>\n",
              "      <td>72</td>\n",
              "      <td>72</td>\n",
              "      <td>74</td>\n",
              "    </tr>\n",
              "    <tr>\n",
              "      <th>1</th>\n",
              "      <td>female</td>\n",
              "      <td>group C</td>\n",
              "      <td>some college</td>\n",
              "      <td>standard</td>\n",
              "      <td>completed</td>\n",
              "      <td>69</td>\n",
              "      <td>90</td>\n",
              "      <td>88</td>\n",
              "    </tr>\n",
              "    <tr>\n",
              "      <th>2</th>\n",
              "      <td>female</td>\n",
              "      <td>group B</td>\n",
              "      <td>master's degree</td>\n",
              "      <td>standard</td>\n",
              "      <td>none</td>\n",
              "      <td>90</td>\n",
              "      <td>95</td>\n",
              "      <td>93</td>\n",
              "    </tr>\n",
              "    <tr>\n",
              "      <th>3</th>\n",
              "      <td>male</td>\n",
              "      <td>group A</td>\n",
              "      <td>associate's degree</td>\n",
              "      <td>free/reduced</td>\n",
              "      <td>none</td>\n",
              "      <td>47</td>\n",
              "      <td>57</td>\n",
              "      <td>44</td>\n",
              "    </tr>\n",
              "    <tr>\n",
              "      <th>4</th>\n",
              "      <td>male</td>\n",
              "      <td>group C</td>\n",
              "      <td>some college</td>\n",
              "      <td>standard</td>\n",
              "      <td>none</td>\n",
              "      <td>76</td>\n",
              "      <td>78</td>\n",
              "      <td>75</td>\n",
              "    </tr>\n",
              "    <tr>\n",
              "      <th>...</th>\n",
              "      <td>...</td>\n",
              "      <td>...</td>\n",
              "      <td>...</td>\n",
              "      <td>...</td>\n",
              "      <td>...</td>\n",
              "      <td>...</td>\n",
              "      <td>...</td>\n",
              "      <td>...</td>\n",
              "    </tr>\n",
              "    <tr>\n",
              "      <th>995</th>\n",
              "      <td>female</td>\n",
              "      <td>group E</td>\n",
              "      <td>master's degree</td>\n",
              "      <td>standard</td>\n",
              "      <td>completed</td>\n",
              "      <td>88</td>\n",
              "      <td>99</td>\n",
              "      <td>95</td>\n",
              "    </tr>\n",
              "    <tr>\n",
              "      <th>996</th>\n",
              "      <td>male</td>\n",
              "      <td>group C</td>\n",
              "      <td>high school</td>\n",
              "      <td>free/reduced</td>\n",
              "      <td>none</td>\n",
              "      <td>62</td>\n",
              "      <td>55</td>\n",
              "      <td>55</td>\n",
              "    </tr>\n",
              "    <tr>\n",
              "      <th>997</th>\n",
              "      <td>female</td>\n",
              "      <td>group C</td>\n",
              "      <td>high school</td>\n",
              "      <td>free/reduced</td>\n",
              "      <td>completed</td>\n",
              "      <td>59</td>\n",
              "      <td>71</td>\n",
              "      <td>65</td>\n",
              "    </tr>\n",
              "    <tr>\n",
              "      <th>998</th>\n",
              "      <td>female</td>\n",
              "      <td>group D</td>\n",
              "      <td>some college</td>\n",
              "      <td>standard</td>\n",
              "      <td>completed</td>\n",
              "      <td>68</td>\n",
              "      <td>78</td>\n",
              "      <td>77</td>\n",
              "    </tr>\n",
              "    <tr>\n",
              "      <th>999</th>\n",
              "      <td>female</td>\n",
              "      <td>group D</td>\n",
              "      <td>some college</td>\n",
              "      <td>free/reduced</td>\n",
              "      <td>none</td>\n",
              "      <td>77</td>\n",
              "      <td>86</td>\n",
              "      <td>86</td>\n",
              "    </tr>\n",
              "  </tbody>\n",
              "</table>\n",
              "<p>1000 rows × 8 columns</p>\n",
              "</div>\n",
              "      <button class=\"colab-df-convert\" onclick=\"convertToInteractive('df-f0e22ab9-d416-42b6-8345-329b881620b5')\"\n",
              "              title=\"Convert this dataframe to an interactive table.\"\n",
              "              style=\"display:none;\">\n",
              "        \n",
              "  <svg xmlns=\"http://www.w3.org/2000/svg\" height=\"24px\"viewBox=\"0 0 24 24\"\n",
              "       width=\"24px\">\n",
              "    <path d=\"M0 0h24v24H0V0z\" fill=\"none\"/>\n",
              "    <path d=\"M18.56 5.44l.94 2.06.94-2.06 2.06-.94-2.06-.94-.94-2.06-.94 2.06-2.06.94zm-11 1L8.5 8.5l.94-2.06 2.06-.94-2.06-.94L8.5 2.5l-.94 2.06-2.06.94zm10 10l.94 2.06.94-2.06 2.06-.94-2.06-.94-.94-2.06-.94 2.06-2.06.94z\"/><path d=\"M17.41 7.96l-1.37-1.37c-.4-.4-.92-.59-1.43-.59-.52 0-1.04.2-1.43.59L10.3 9.45l-7.72 7.72c-.78.78-.78 2.05 0 2.83L4 21.41c.39.39.9.59 1.41.59.51 0 1.02-.2 1.41-.59l7.78-7.78 2.81-2.81c.8-.78.8-2.07 0-2.86zM5.41 20L4 18.59l7.72-7.72 1.47 1.35L5.41 20z\"/>\n",
              "  </svg>\n",
              "      </button>\n",
              "      \n",
              "  <style>\n",
              "    .colab-df-container {\n",
              "      display:flex;\n",
              "      flex-wrap:wrap;\n",
              "      gap: 12px;\n",
              "    }\n",
              "\n",
              "    .colab-df-convert {\n",
              "      background-color: #E8F0FE;\n",
              "      border: none;\n",
              "      border-radius: 50%;\n",
              "      cursor: pointer;\n",
              "      display: none;\n",
              "      fill: #1967D2;\n",
              "      height: 32px;\n",
              "      padding: 0 0 0 0;\n",
              "      width: 32px;\n",
              "    }\n",
              "\n",
              "    .colab-df-convert:hover {\n",
              "      background-color: #E2EBFA;\n",
              "      box-shadow: 0px 1px 2px rgba(60, 64, 67, 0.3), 0px 1px 3px 1px rgba(60, 64, 67, 0.15);\n",
              "      fill: #174EA6;\n",
              "    }\n",
              "\n",
              "    [theme=dark] .colab-df-convert {\n",
              "      background-color: #3B4455;\n",
              "      fill: #D2E3FC;\n",
              "    }\n",
              "\n",
              "    [theme=dark] .colab-df-convert:hover {\n",
              "      background-color: #434B5C;\n",
              "      box-shadow: 0px 1px 3px 1px rgba(0, 0, 0, 0.15);\n",
              "      filter: drop-shadow(0px 1px 2px rgba(0, 0, 0, 0.3));\n",
              "      fill: #FFFFFF;\n",
              "    }\n",
              "  </style>\n",
              "\n",
              "      <script>\n",
              "        const buttonEl =\n",
              "          document.querySelector('#df-f0e22ab9-d416-42b6-8345-329b881620b5 button.colab-df-convert');\n",
              "        buttonEl.style.display =\n",
              "          google.colab.kernel.accessAllowed ? 'block' : 'none';\n",
              "\n",
              "        async function convertToInteractive(key) {\n",
              "          const element = document.querySelector('#df-f0e22ab9-d416-42b6-8345-329b881620b5');\n",
              "          const dataTable =\n",
              "            await google.colab.kernel.invokeFunction('convertToInteractive',\n",
              "                                                     [key], {});\n",
              "          if (!dataTable) return;\n",
              "\n",
              "          const docLinkHtml = 'Like what you see? Visit the ' +\n",
              "            '<a target=\"_blank\" href=https://colab.research.google.com/notebooks/data_table.ipynb>data table notebook</a>'\n",
              "            + ' to learn more about interactive tables.';\n",
              "          element.innerHTML = '';\n",
              "          dataTable['output_type'] = 'display_data';\n",
              "          await google.colab.output.renderOutput(dataTable, element);\n",
              "          const docLink = document.createElement('div');\n",
              "          docLink.innerHTML = docLinkHtml;\n",
              "          element.appendChild(docLink);\n",
              "        }\n",
              "      </script>\n",
              "    </div>\n",
              "  </div>\n",
              "  "
            ]
          },
          "metadata": {},
          "execution_count": 38
        }
      ]
    },
    {
      "cell_type": "code",
      "source": [
        "df2.info()"
      ],
      "metadata": {
        "id": "LH53oRN3dOwQ"
      },
      "execution_count": null,
      "outputs": []
    },
    {
      "cell_type": "code",
      "source": [
        "df2.describe()"
      ],
      "metadata": {
        "id": "Zv_1GD0_dVYr"
      },
      "execution_count": null,
      "outputs": []
    },
    {
      "cell_type": "code",
      "source": [
        "sns.heatmap(\n",
        "    df2[['math score', 'reading score', 'writing score']].corr(),\n",
        "    annot=True,\n",
        "    center=0,\n",
        ");\n",
        "plt.title('Heatmap untuk Setiap variabel numerik')\n",
        "plt.show()"
      ],
      "metadata": {
        "id": "V4hkk1erdeVd"
      },
      "execution_count": null,
      "outputs": []
    },
    {
      "cell_type": "markdown",
      "source": [
        "#### Visualisasi Comparison\n"
      ],
      "metadata": {
        "id": "3sAQkDIWSBnz"
      }
    },
    {
      "cell_type": "code",
      "source": [
        "# Visualisasi yang menampilkan berapa banyak gender berdasarkan race/ethnicity\n",
        "sns.countplot(data=df2,x=\"race/ethnicity\",hue=\"gender\")"
      ],
      "metadata": {
        "id": "Z1xpuASxeFRc"
      },
      "execution_count": null,
      "outputs": []
    },
    {
      "cell_type": "code",
      "source": [
        "# Visualisasi yang menampilkan berapa banyak parental level of education berdasarkan kategorinya\n",
        "sns.countplot(data=df2,y=\"parental level of education\")"
      ],
      "metadata": {
        "id": "GvFYOLJweOu6"
      },
      "execution_count": null,
      "outputs": []
    },
    {
      "cell_type": "code",
      "source": [
        "# Buatlah visualisasi yang menampilkan berapa banyak parental level of education berdasarkan race/ethnicity\n",
        "sns.countplot(data=df2, y='parental level of education', hue=\"race/ethnicity\");"
      ],
      "metadata": {
        "id": "E6GZOmgjertc"
      },
      "execution_count": null,
      "outputs": []
    },
    {
      "cell_type": "markdown",
      "source": [
        "#### Visualisasi Distribution"
      ],
      "metadata": {
        "id": "vkC89irkfH1o"
      }
    },
    {
      "cell_type": "code",
      "source": [
        "# Histogram untuk math score\n",
        "sns.histplot(data=df2, x=\"math score\", kde=True)"
      ],
      "metadata": {
        "id": "DtR5FzBOfNdU"
      },
      "execution_count": null,
      "outputs": []
    },
    {
      "cell_type": "code",
      "source": [
        "# Boxplot untuk math score\n",
        "sns.boxplot(data=df2,x=\"math score\")"
      ],
      "metadata": {
        "id": "bHB3KbivfbB1"
      },
      "execution_count": null,
      "outputs": []
    },
    {
      "cell_type": "markdown",
      "source": [
        "#### Visualisasi Reletionship"
      ],
      "metadata": {
        "id": "Kmet918raR0_"
      }
    },
    {
      "cell_type": "code",
      "source": [
        "# Scatterplot untuk date dan acc_confirmed\n",
        "sns.scatterplot(data=df2,x=\"race/ethnicity\",y=\"math score\")"
      ],
      "metadata": {
        "colab": {
          "base_uri": "https://localhost:8080/",
          "height": 466
        },
        "id": "M8LvHG4uaWrS",
        "outputId": "070269bf-cd6c-4653-d14e-01c83d79cece"
      },
      "execution_count": null,
      "outputs": [
        {
          "output_type": "execute_result",
          "data": {
            "text/plain": [
              "<Axes: xlabel='race/ethnicity', ylabel='math score'>"
            ]
          },
          "metadata": {},
          "execution_count": 51
        },
        {
          "output_type": "display_data",
          "data": {
            "text/plain": [
              "<Figure size 640x480 with 1 Axes>"
            ],
            "image/png": "[encoded data removed]"
          },
          "metadata": {}
        }
      ]
    },
    {
      "cell_type": "markdown",
      "source": [
        "#### Visualisasi Composition"
      ],
      "metadata": {
        "id": "0HPdJkPogg-C"
      }
    },
    {
      "cell_type": "code",
      "source": [
        "# Pieplot untuk race/ethnicity\n",
        "px.pie(df2,names=\"race/ethnicity\")"
      ],
      "metadata": {
        "id": "E4tT7r8wgjCW"
      },
      "execution_count": null,
      "outputs": []
    },
    {
      "cell_type": "markdown",
      "source": [
        "## Data Preparation"
      ],
      "metadata": {
        "id": "SA7Tp0mocjgt"
      }
    },
    {
      "cell_type": "markdown",
      "source": [
        "##### Cleaning Data"
      ],
      "metadata": {
        "id": "g2ywq3uchfdk"
      }
    },
    {
      "cell_type": "code",
      "source": [
        "df2.isna().sum()"
      ],
      "metadata": {
        "colab": {
          "base_uri": "https://localhost:8080/"
        },
        "id": "GgABUSa8hgj9",
        "outputId": "211234f0-aaa1-4e39-f165-260d2718a7f3"
      },
      "execution_count": null,
      "outputs": [
        {
          "output_type": "execute_result",
          "data": {
            "text/plain": [
              "math score                                        0\n",
              "reading score                                     0\n",
              "writing score                                     0\n",
              "gender_female                                     0\n",
              "gender_male                                       0\n",
              "race/ethnicity_group A                            0\n",
              "race/ethnicity_group B                            0\n",
              "race/ethnicity_group C                            0\n",
              "race/ethnicity_group D                            0\n",
              "race/ethnicity_group E                            0\n",
              "parental level of education_associate's degree    0\n",
              "parental level of education_bachelor's degree     0\n",
              "parental level of education_high school           0\n",
              "parental level of education_master's degree       0\n",
              "parental level of education_some college          0\n",
              "parental level of education_some high school      0\n",
              "lunch_free/reduced                                0\n",
              "lunch_standard                                    0\n",
              "test preparation course_completed                 0\n",
              "test preparation course_none                      0\n",
              "dtype: int64"
            ]
          },
          "metadata": {},
          "execution_count": 64
        }
      ]
    },
    {
      "cell_type": "markdown",
      "source": [
        "##### Transform Data"
      ],
      "metadata": {
        "id": "qjgjubxbIneG"
      }
    },
    {
      "cell_type": "code",
      "source": [
        "df2 = pd.get_dummies(df2)\n",
        "print(df2)"
      ],
      "metadata": {
        "colab": {
          "base_uri": "https://localhost:8080/"
        },
        "id": "R3Pnmo9NIpRZ",
        "outputId": "2c3bc60c-9cbe-4bfa-f089-21ce0785e502"
      },
      "execution_count": null,
      "outputs": [
        {
          "output_type": "stream",
          "name": "stdout",
          "text": [
            "     math score  reading score  writing score  gender_female  gender_male  race/ethnicity_group A  race/ethnicity_group B  race/ethnicity_group C  race/ethnicity_group D  race/ethnicity_group E  \\\n",
            "0            72             72             74              1            0                       0                       1                       0                       0                       0   \n",
            "1            69             90             88              1            0                       0                       0                       1                       0                       0   \n",
            "2            90             95             93              1            0                       0                       1                       0                       0                       0   \n",
            "3            47             57             44              0            1                       1                       0                       0                       0                       0   \n",
            "4            76             78             75              0            1                       0                       0                       1                       0                       0   \n",
            "..          ...            ...            ...            ...          ...                     ...                     ...                     ...                     ...                     ...   \n",
            "995          88             99             95              1            0                       0                       0                       0                       0                       1   \n",
            "996          62             55             55              0            1                       0                       0                       1                       0                       0   \n",
            "997          59             71             65              1            0                       0                       0                       1                       0                       0   \n",
            "998          68             78             77              1            0                       0                       0                       0                       1                       0   \n",
            "999          77             86             86              1            0                       0                       0                       0                       1                       0   \n",
            "\n",
            "     parental level of education_associate's degree  parental level of education_bachelor's degree  parental level of education_high school  parental level of education_master's degree  \\\n",
            "0                                                 0                                              1                                        0                                            0   \n",
            "1                                                 0                                              0                                        0                                            0   \n",
            "2                                                 0                                              0                                        0                                            1   \n",
            "3                                                 1                                              0                                        0                                            0   \n",
            "4                                                 0                                              0                                        0                                            0   \n",
            "..                                              ...                                            ...                                      ...                                          ...   \n",
            "995                                               0                                              0                                        0                                            1   \n",
            "996                                               0                                              0                                        1                                            0   \n",
            "997                                               0                                              0                                        1                                            0   \n",
            "998                                               0                                              0                                        0                                            0   \n",
            "999                                               0                                              0                                        0                                            0   \n",
            "\n",
            "     parental level of education_some college  parental level of education_some high school  lunch_free/reduced  lunch_standard  test preparation course_completed  test preparation course_none  \n",
            "0                                           0                                             0                   0               1                                  0                             1  \n",
            "1                                           1                                             0                   0               1                                  1                             0  \n",
            "2                                           0                                             0                   0               1                                  0                             1  \n",
            "3                                           0                                             0                   1               0                                  0                             1  \n",
            "4                                           1                                             0                   0               1                                  0                             1  \n",
            "..                                        ...                                           ...                 ...             ...                                ...                           ...  \n",
            "995                                         0                                             0                   0               1                                  1                             0  \n",
            "996                                         0                                             0                   1               0                                  0                             1  \n",
            "997                                         0                                             0                   1               0                                  1                             0  \n",
            "998                                         1                                             0                   0               1                                  1                             0  \n",
            "999                                         1                                             0                   1               0                                  0                             1  \n",
            "\n",
            "[1000 rows x 20 columns]\n"
          ]
        }
      ]
    },
    {
      "cell_type": "markdown",
      "source": [
        "##### Split Data"
      ],
      "metadata": {
        "id": "dpKMV_3sJOn3"
      }
    },
    {
      "cell_type": "code",
      "source": [
        "from sklearn.model_selection import train_test_split\n",
        "x = df2.drop('reading score',axis=1)\n",
        "y = df2['reading score']\n",
        "x_train, x_test, y_train, y_test = train_test_split(x, y, test_size=0.3, random_state=42)\n",
        "print(x_train)"
      ],
      "metadata": {
        "colab": {
          "base_uri": "https://localhost:8080/"
        },
        "id": "nobVbKHQJPyg",
        "outputId": "b43bf3c6-14ed-44a9-ef3c-cef2f382c85e"
      },
      "execution_count": null,
      "outputs": [
        {
          "output_type": "stream",
          "name": "stdout",
          "text": [
            "     math score  writing score  gender_female  gender_male  race/ethnicity_group A  race/ethnicity_group B  race/ethnicity_group C  race/ethnicity_group D  race/ethnicity_group E  \\\n",
            "541          79             80              0            1                       0                       0                       0                       1                       0   \n",
            "440          67             79              1            0                       0                       0                       1                       0                       0   \n",
            "482          68             61              0            1                       0                       0                       1                       0                       0   \n",
            "422          47             67              1            0                       0                       0                       0                       1                       0   \n",
            "778          72             82              1            0                       1                       0                       0                       0                       0   \n",
            "..          ...            ...            ...          ...                     ...                     ...                     ...                     ...                     ...   \n",
            "106          87            100              1            0                       0                       0                       0                       1                       0   \n",
            "270          69             61              0            1                       0                       0                       1                       0                       0   \n",
            "860          53             53              1            0                       0                       0                       1                       0                       0   \n",
            "435          50             53              0            1                       0                       0                       1                       0                       0   \n",
            "102          85             89              1            0                       0                       0                       0                       1                       0   \n",
            "\n",
            "     parental level of education_associate's degree  parental level of education_bachelor's degree  parental level of education_high school  parental level of education_master's degree  \\\n",
            "541                                               1                                              0                                        0                                            0   \n",
            "440                                               0                                              0                                        0                                            0   \n",
            "482                                               0                                              0                                        0                                            0   \n",
            "422                                               0                                              0                                        0                                            1   \n",
            "778                                               0                                              0                                        0                                            0   \n",
            "..                                              ...                                            ...                                      ...                                          ...   \n",
            "106                                               0                                              0                                        0                                            1   \n",
            "270                                               0                                              1                                        0                                            0   \n",
            "860                                               1                                              0                                        0                                            0   \n",
            "435                                               0                                              0                                        0                                            0   \n",
            "102                                               1                                              0                                        0                                            0   \n",
            "\n",
            "     parental level of education_some college  parental level of education_some high school  lunch_free/reduced  lunch_standard  test preparation course_completed  test preparation course_none  \n",
            "541                                         0                                             0                   1               0                                  1                             0  \n",
            "440                                         1                                             0                   0               1                                  1                             0  \n",
            "482                                         1                                             0                   1               0                                  0                             1  \n",
            "422                                         0                                             0                   1               0                                  1                             0  \n",
            "778                                         1                                             0                   0               1                                  1                             0  \n",
            "..                                        ...                                           ...                 ...             ...                                ...                           ...  \n",
            "106                                         0                                             0                   0               1                                  0                             1  \n",
            "270                                         0                                             0                   0               1                                  0                             1  \n",
            "860                                         0                                             0                   0               1                                  0                             1  \n",
            "435                                         1                                             0                   1               0                                  1                             0  \n",
            "102                                         0                                             0                   0               1                                  0                             1  \n",
            "\n",
            "[700 rows x 19 columns]\n"
          ]
        }
      ]
    }
  ]
}